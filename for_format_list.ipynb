{
 "cells": [
  {
   "cell_type": "markdown",
   "metadata": {},
   "source": [
    "## for_format_list"
   ]
  },
  {
   "cell_type": "code",
   "execution_count": 4,
   "metadata": {},
   "outputs": [
    {
     "name": "stdout",
     "output_type": "stream",
     "text": [
      "창훈 ㅊㅎ 창ㅎ\n"
     ]
    }
   ],
   "source": [
    "s = '{} {} {}'\n",
    "pr = s.format('창훈', 'ㅊㅎ', '창ㅎ')\n",
    "print(pr)"
   ]
  },
  {
   "cell_type": "code",
   "execution_count": 6,
   "metadata": {},
   "outputs": [
    {
     "name": "stdout",
     "output_type": "stream",
     "text": [
      "창훈이는 ㅊㅎ와 창ㅎ을 싫어해\n"
     ]
    }
   ],
   "source": [
    "s = '{}이는 {}와 {}을 싫어해'\n",
    "pr = s.format('창훈', 'ㅊㅎ', '창ㅎ')\n",
    "print(pr)"
   ]
  },
  {
   "cell_type": "code",
   "execution_count": 8,
   "metadata": {},
   "outputs": [
    {
     "name": "stdout",
     "output_type": "stream",
     "text": [
      "창훈이는 30217번이고 게임회사에 갔어\n"
     ]
    }
   ],
   "source": [
    "s = '{}이는 {}번이고 {}회사에 갔어'\n",
    "pr = s.format('창훈', 30217, '게임')\n",
    "print(pr)"
   ]
  },
  {
   "cell_type": "markdown",
   "metadata": {},
   "source": [
    "## [문제]햄버거 1개는 4달라"
   ]
  },
  {
   "cell_type": "code",
   "execution_count": null,
   "metadata": {},
   "outputs": [],
   "source": [
    "food = '햄버거'\n",
    "num = 2\n",
    "price = num*4\n",
    "s = '{} {}개는 {}달라'\n",
    "pr = s.format(food,num,price)\n",
    "print(pr)"
   ]
  },
  {
   "cell_type": "code",
   "execution_count": 11,
   "metadata": {},
   "outputs": [
    {
     "name": "stdout",
     "output_type": "stream",
     "text": [
      "메뉴입력 >> 껌\n",
      "개수 입력 >> 4\n",
      "껌 4개는 16달라\n"
     ]
    }
   ],
   "source": [
    "food = input('메뉴입력 >> ')\n",
    "num = int(input('개수 입력 >> '))\n",
    "price = num*4\n",
    "s = '{} {}개는 {}달라'\n",
    "pr = s.format(food, num, price)\n",
    "print(pr)"
   ]
  },
  {
   "cell_type": "code",
   "execution_count": null,
   "metadata": {},
   "outputs": [],
   "source": [
    "menu = list(map(int,input('햄버거 개수와 가격 >> ').split()))"
   ]
  },
  {
   "cell_type": "code",
   "execution_count": 16,
   "metadata": {},
   "outputs": [
    {
     "data": {
      "text/plain": [
       "str"
      ]
     },
     "execution_count": 16,
     "metadata": {},
     "output_type": "execute_result"
    }
   ],
   "source": [
    "type(menu)"
   ]
  },
  {
   "cell_type": "code",
   "execution_count": 18,
   "metadata": {},
   "outputs": [
    {
     "data": {
      "text/plain": [
       "('7', '4')"
      ]
     },
     "execution_count": 18,
     "metadata": {},
     "output_type": "execute_result"
    }
   ],
   "source": [
    "menu[0], menu[1]"
   ]
  },
  {
   "cell_type": "code",
   "execution_count": null,
   "metadata": {},
   "outputs": [],
   "source": [
    "price = menu[0] * menu[1]\n",
    "s = '{} {}개는 {}달라'\n",
    "pr = s.format(food, num, price)\n",
    "print(pr)"
   ]
  },
  {
   "cell_type": "code",
   "execution_count": null,
   "metadata": {},
   "outputs": [],
   "source": [
    "stu = '%s %d학년 %.2f'\n",
    "pr = stu%('인천여상', 3, 'OOO')\n",
    "print(pr)"
   ]
  },
  {
   "cell_type": "code",
   "execution_count": null,
   "metadata": {},
   "outputs": [],
   "source": [
    "juso = '     인천시 남동구 구월동  '"
   ]
  },
  {
   "cell_type": "code",
   "execution_count": null,
   "metadata": {},
   "outputs": [],
   "source": [
    "type(juso). len(juso)"
   ]
  },
  {
   "cell_type": "code",
   "execution_count": null,
   "metadata": {},
   "outputs": [],
   "source": [
    "add = juso.strip()"
   ]
  },
  {
   "cell_type": "code",
   "execution_count": null,
   "metadata": {},
   "outputs": [],
   "source": [
    "add. len(add)"
   ]
  },
  {
   "cell_type": "code",
   "execution_count": null,
   "metadata": {},
   "outputs": [],
   "source": [
    "add.juso.startswith('인천')"
   ]
  },
  {
   "cell_type": "code",
   "execution_count": null,
   "metadata": {},
   "outputs": [],
   "source": [
    "add.endswith('구월동')"
   ]
  },
  {
   "cell_type": "code",
   "execution_count": null,
   "metadata": {},
   "outputs": [],
   "source": [
    "if 조건식 : \n",
    "    실행문1\n",
    "else:\n",
    "    실행문2"
   ]
  },
  {
   "cell_type": "raw",
   "metadata": {},
   "source": [
    "num=10 \n",
    "if num==10 :\n",
    "    print('숫자는 10')\n",
    "else:\n",
    "    print('숫자는 10이 아니다.)"
   ]
  },
  {
   "cell_type": "code",
   "execution_count": null,
   "metadata": {},
   "outputs": [],
   "source": [
    "num=10 \n",
    "if num%2==10 :\n",
    "    print('짝수')\n",
    "else:\n",
    "    print('홀수')"
   ]
  },
  {
   "cell_type": "markdown",
   "metadata": {},
   "source": [
    "## [문제]입력을 받아서 짝수(예쓰)인지 홀수(노)인지 알려줌\n",
    "- 입력을 받는다\n",
    "- 정수로 바꾼다\n",
    "- if 문으로 짝수인지 확인\n",
    "- 출력"
   ]
  },
  {
   "cell_type": "code",
   "execution_count": null,
   "metadata": {},
   "outputs": [],
   "source": [
    "num = in(input())\n",
    "if num%2==0;\n",
    "    print('짝수')\n",
    "else:\n",
    "    print('홀수')"
   ]
  },
  {
   "cell_type": "code",
   "execution_count": null,
   "metadata": {},
   "outputs": [],
   "source": [
    "sum=0\n",
    "for i in range(20, 31) :\n",
    "    if i%2 != 0 : \n",
    "    sum+=i\n",
    "    print (i)\n",
    "print('합계 :', sum)"
   ]
  },
  {
   "cell_type": "markdown",
   "metadata": {},
   "source": [
    "## [문제 만들기]\n",
    "- for, if"
   ]
  },
  {
   "cell_type": "code",
   "execution_count": 5,
   "metadata": {},
   "outputs": [
    {
     "name": "stdout",
     "output_type": "stream",
     "text": [
      "5\n",
      "10\n",
      "15\n",
      "20\n",
      "25\n",
      "30\n",
      "35\n",
      "40\n",
      "45\n",
      "50\n",
      "55\n",
      "60\n",
      "65\n",
      "70\n",
      "75\n",
      "80\n",
      "85\n",
      "90\n",
      "95\n",
      "100\n"
     ]
    }
   ],
   "source": [
    "sum= 0\n",
    "for i in range(1,101):\n",
    "    if i%5==0:\n",
    "        print(i)"
   ]
  }
 ],
 "metadata": {
  "kernelspec": {
   "display_name": "Python 3",
   "language": "python",
   "name": "python3"
  }
 },
 "nbformat": 4,
 "nbformat_minor": 2
}
